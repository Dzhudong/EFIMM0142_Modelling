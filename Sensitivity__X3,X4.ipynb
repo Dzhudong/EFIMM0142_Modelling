{
  "nbformat": 4,
  "nbformat_minor": 0,
  "metadata": {
    "colab": {
      "provenance": []
    },
    "kernelspec": {
      "name": "python3",
      "display_name": "Python 3"
    },
    "language_info": {
      "name": "python"
    }
  },
  "cells": [
    {
      "cell_type": "code",
      "execution_count": 1,
      "metadata": {
        "colab": {
          "base_uri": "https://localhost:8080/"
        },
        "id": "b9dGoIpN947O",
        "outputId": "5adbeb81-af79-4adb-9a86-5a73d07f7a25"
      },
      "outputs": [
        {
          "output_type": "stream",
          "name": "stdout",
          "text": [
            "Collecting pulp\n",
            "  Downloading PuLP-2.7.0-py3-none-any.whl (14.3 MB)\n",
            "\u001b[2K     \u001b[90m━━━━━━━━━━━━━━━━━━━━━━━━━━━━━━━━━━━━━━━━\u001b[0m \u001b[32m14.3/14.3 MB\u001b[0m \u001b[31m27.7 MB/s\u001b[0m eta \u001b[36m0:00:00\u001b[0m\n",
            "\u001b[?25hInstalling collected packages: pulp\n",
            "Successfully installed pulp-2.7.0\n",
            "Selecting previously unselected package libsuitesparseconfig5:amd64.\n",
            "(Reading database ... 120882 files and directories currently installed.)\n",
            "Preparing to unpack .../libsuitesparseconfig5_1%3a5.10.1+dfsg-4build1_amd64.deb ...\n",
            "Unpacking libsuitesparseconfig5:amd64 (1:5.10.1+dfsg-4build1) ...\n",
            "Selecting previously unselected package libamd2:amd64.\n",
            "Preparing to unpack .../libamd2_1%3a5.10.1+dfsg-4build1_amd64.deb ...\n",
            "Unpacking libamd2:amd64 (1:5.10.1+dfsg-4build1) ...\n",
            "Selecting previously unselected package libcolamd2:amd64.\n",
            "Preparing to unpack .../libcolamd2_1%3a5.10.1+dfsg-4build1_amd64.deb ...\n",
            "Unpacking libcolamd2:amd64 (1:5.10.1+dfsg-4build1) ...\n",
            "Selecting previously unselected package libglpk40:amd64.\n",
            "Preparing to unpack .../libglpk40_5.0-1_amd64.deb ...\n",
            "Unpacking libglpk40:amd64 (5.0-1) ...\n",
            "Selecting previously unselected package glpk-utils.\n",
            "Preparing to unpack .../glpk-utils_5.0-1_amd64.deb ...\n",
            "Unpacking glpk-utils (5.0-1) ...\n",
            "Setting up libsuitesparseconfig5:amd64 (1:5.10.1+dfsg-4build1) ...\n",
            "Setting up libamd2:amd64 (1:5.10.1+dfsg-4build1) ...\n",
            "Setting up libcolamd2:amd64 (1:5.10.1+dfsg-4build1) ...\n",
            "Setting up libglpk40:amd64 (5.0-1) ...\n",
            "Setting up glpk-utils (5.0-1) ...\n",
            "Processing triggers for man-db (2.10.2-1) ...\n",
            "Processing triggers for libc-bin (2.35-0ubuntu3.4) ...\n",
            "/sbin/ldconfig.real: /usr/local/lib/libtbbmalloc_proxy.so.2 is not a symbolic link\n",
            "\n",
            "/sbin/ldconfig.real: /usr/local/lib/libtbbbind_2_0.so.3 is not a symbolic link\n",
            "\n",
            "/sbin/ldconfig.real: /usr/local/lib/libtbbbind_2_5.so.3 is not a symbolic link\n",
            "\n",
            "/sbin/ldconfig.real: /usr/local/lib/libtbbbind.so.3 is not a symbolic link\n",
            "\n",
            "/sbin/ldconfig.real: /usr/local/lib/libtbb.so.12 is not a symbolic link\n",
            "\n",
            "/sbin/ldconfig.real: /usr/local/lib/libtbbmalloc.so.2 is not a symbolic link\n",
            "\n",
            "Mounted at /content/drive\n"
          ]
        }
      ],
      "source": [
        "!pip install pulp #Python Linear Programming\n",
        "import pulp\n",
        "!apt-get install -y -qq glpk-utils\n",
        "from pulp import GLPK\n",
        "import pandas as pd\n",
        "import numpy as np\n",
        "\n",
        "from google.colab import drive\n",
        "import os\n",
        "drive.mount('/content/drive')\n",
        "os.chdir(\"/content/drive/My Drive/Colab Notebooks/Modelling\")\n",
        "\n",
        "df = pd.read_csv(\"Modelling data.csv\")\n"
      ]
    },
    {
      "cell_type": "code",
      "source": [
        "weights_matrix = np.empty((9,9))\n",
        "for i in range(9):\n",
        "    model = pulp.LpProblem(\"Investment Analysis\", pulp.LpMaximize) # Create an LP maximization problem\n",
        "    m1 = pulp.LpVariable(\"m1\", lowBound=0, upBound=None, cat='Continuous') # Create a variable m1>=0\n",
        "    m2 = pulp.LpVariable(\"m2\", lowBound=0, upBound=None, cat='Continuous') # Create a variable m2>=0\n",
        "    n1 = pulp.LpVariable(\"n1\", lowBound=0, upBound=None, cat='Continuous') # Create a variable n1>=0\n",
        "    n2 = pulp.LpVariable(\"n2\", lowBound=0, upBound=None, cat='Continuous') # Create a variable n2>=0\n",
        "\n",
        "\n",
        "\n",
        "    model += m1*df[\"Y1\"][i] + m2*df[\"Y2\"][i]  #objective function\n",
        "\n",
        "    model += n1*df[\"X1\"][i] + n2*df[\"X2\"][i] == 1 #first constraint (equality)\n",
        "\n",
        "    for j in range(9):\n",
        "        model += m1*df[\"Y1\"][j] + m2*df[\"Y2\"][j] - n1*df[\"X1\"][j] - n2*df[\"X2\"][j] <= 0\n",
        "\n",
        "    status = model.solve(GLPK(msg=True, options=['--ranges', 'sensitivity.txt']))\n",
        "    print(\"Model Status:{}\".format(pulp.LpStatus[model.status]))\n",
        "\n",
        "    list_weights=[]\n",
        "    for k in model.variables():\n",
        "\t      print(k.name, \"=\", k.varValue, \"\\tReduced Cost =\", k.dj)\n",
        "    for k in model.variables():\n",
        "        list_weights=list_weights+[k.varValue]\n",
        "    for l in range(4):\n",
        "        value= list_weights[l]\n",
        "        weights_matrix[l,i] = value\n",
        "\n",
        "    print(\"Objective=\", pulp.value(model.objective))\n",
        "\n",
        "    # Displaying Shadow Price & Slack Value per Constraint\n",
        "    print (\"\\nSensitivity Analysis\\nConstraint\\t\\tShadow Price\\tSlack\")\n",
        "    for name, m in model.constraints.items():\n",
        "\t      print(name, \":\", m, \"\\t\", m.pi, \"\\t\\t\", m.slack)"
      ],
      "metadata": {
        "colab": {
          "base_uri": "https://localhost:8080/"
        },
        "id": "tZB98AXQ-OLF",
        "outputId": "9ec56ccb-6c5f-452c-8286-cda04da57e4f"
      },
      "execution_count": 38,
      "outputs": [
        {
          "output_type": "stream",
          "name": "stdout",
          "text": [
            "Model Status:Optimal\n",
            "m1 = 0.0 \tReduced Cost = None\n",
            "m2 = 2.61 \tReduced Cost = None\n",
            "n1 = 0.0 \tReduced Cost = None\n",
            "n2 = 1.33333 \tReduced Cost = None\n",
            "Objective= 0.9999999988199999\n",
            "\n",
            "Sensitivity Analysis\n",
            "Constraint\t\tShadow Price\tSlack\n",
            "_C1 : 114.8*n1 + 0.75*n2 = 1.0 \t None \t\t None\n",
            "_C2 : 8.71*m1 + 0.383141762*m2 - 114.8*n1 - 0.75*n2 <= -0.0 \t None \t\t None\n",
            "_C3 : 8.1*m1 + 0.01618123*m2 - 106.8*n1 - 0.7*n2 <= -0.0 \t None \t\t None\n",
            "_C4 : 6.2*m1 + 0.041407867*m2 - 84.6*n1 - 0.86*n2 <= -0.0 \t None \t\t None\n",
            "_C5 : 3.12*m1 + 0.031152648*m2 - 77.7*n1 - 0.63*n2 <= -0.0 \t None \t\t None\n",
            "_C6 : 0.12*m1 + 0.071428571*m2 - 56.3*n1 - 0.81*n2 <= -0.0 \t None \t\t None\n",
            "_C7 : 1.32*m1 + 0.043956044*m2 - 45.8*n1 - 0.73*n2 <= -0.0 \t None \t\t None\n",
            "_C8 : 3.07*m1 + 0.1953125*m2 - 37.8*n1 - 0.76*n2 <= -0.0 \t None \t\t None\n",
            "_C9 : 6.28*m1 + 0.0253614*m2 - 36.7*n1 - 0.71*n2 <= -0.0 \t None \t\t None\n",
            "_C10 : 1.88*m1 + 0.031786395*m2 - 29.7*n1 - 0.68*n2 <= -0.0 \t None \t\t None\n",
            "Model Status:Optimal\n",
            "m1 = 0.123155 \tReduced Cost = None\n",
            "m2 = 0.0 \tReduced Cost = None\n",
            "n1 = 0.00336295 \tReduced Cost = None\n",
            "n2 = 0.915481 \tReduced Cost = None\n",
            "Objective= 0.9975554999999999\n",
            "\n",
            "Sensitivity Analysis\n",
            "Constraint\t\tShadow Price\tSlack\n",
            "_C1 : 106.8*n1 + 0.7*n2 = 1.0 \t None \t\t None\n",
            "_C2 : 8.71*m1 + 0.383141762*m2 - 114.8*n1 - 0.75*n2 <= -0.0 \t None \t\t None\n",
            "_C3 : 8.1*m1 + 0.01618123*m2 - 106.8*n1 - 0.7*n2 <= -0.0 \t None \t\t None\n",
            "_C4 : 6.2*m1 + 0.041407867*m2 - 84.6*n1 - 0.86*n2 <= -0.0 \t None \t\t None\n",
            "_C5 : 3.12*m1 + 0.031152648*m2 - 77.7*n1 - 0.63*n2 <= -0.0 \t None \t\t None\n",
            "_C6 : 0.12*m1 + 0.071428571*m2 - 56.3*n1 - 0.81*n2 <= -0.0 \t None \t\t None\n",
            "_C7 : 1.32*m1 + 0.043956044*m2 - 45.8*n1 - 0.73*n2 <= -0.0 \t None \t\t None\n",
            "_C8 : 3.07*m1 + 0.1953125*m2 - 37.8*n1 - 0.76*n2 <= -0.0 \t None \t\t None\n",
            "_C9 : 6.28*m1 + 0.0253614*m2 - 36.7*n1 - 0.71*n2 <= -0.0 \t None \t\t None\n",
            "_C10 : 1.88*m1 + 0.031786395*m2 - 29.7*n1 - 0.68*n2 <= -0.0 \t None \t\t None\n",
            "Model Status:Optimal\n",
            "m1 = 0.114903 \tReduced Cost = None\n",
            "m2 = 0.0 \tReduced Cost = None\n",
            "n1 = 0.00313761 \tReduced Cost = None\n",
            "n2 = 0.854137 \tReduced Cost = None\n",
            "Objective= 0.7123986000000001\n",
            "\n",
            "Sensitivity Analysis\n",
            "Constraint\t\tShadow Price\tSlack\n",
            "_C1 : 84.6*n1 + 0.86*n2 = 1.0 \t None \t\t None\n",
            "_C2 : 8.71*m1 + 0.383141762*m2 - 114.8*n1 - 0.75*n2 <= -0.0 \t None \t\t None\n",
            "_C3 : 8.1*m1 + 0.01618123*m2 - 106.8*n1 - 0.7*n2 <= -0.0 \t None \t\t None\n",
            "_C4 : 6.2*m1 + 0.041407867*m2 - 84.6*n1 - 0.86*n2 <= -0.0 \t None \t\t None\n",
            "_C5 : 3.12*m1 + 0.031152648*m2 - 77.7*n1 - 0.63*n2 <= -0.0 \t None \t\t None\n",
            "_C6 : 0.12*m1 + 0.071428571*m2 - 56.3*n1 - 0.81*n2 <= -0.0 \t None \t\t None\n",
            "_C7 : 1.32*m1 + 0.043956044*m2 - 45.8*n1 - 0.73*n2 <= -0.0 \t None \t\t None\n",
            "_C8 : 3.07*m1 + 0.1953125*m2 - 37.8*n1 - 0.76*n2 <= -0.0 \t None \t\t None\n",
            "_C9 : 6.28*m1 + 0.0253614*m2 - 36.7*n1 - 0.71*n2 <= -0.0 \t None \t\t None\n",
            "_C10 : 1.88*m1 + 0.031786395*m2 - 29.7*n1 - 0.68*n2 <= -0.0 \t None \t\t None\n",
            "Model Status:Optimal\n",
            "m1 = 0.146953 \tReduced Cost = None\n",
            "m2 = 0.0 \tReduced Cost = None\n",
            "n1 = 0.00401281 \tReduced Cost = None\n",
            "n2 = 1.09239 \tReduced Cost = None\n",
            "Objective= 0.45849336\n",
            "\n",
            "Sensitivity Analysis\n",
            "Constraint\t\tShadow Price\tSlack\n",
            "_C1 : 77.7*n1 + 0.63*n2 = 1.0 \t None \t\t None\n",
            "_C2 : 8.71*m1 + 0.383141762*m2 - 114.8*n1 - 0.75*n2 <= -0.0 \t None \t\t None\n",
            "_C3 : 8.1*m1 + 0.01618123*m2 - 106.8*n1 - 0.7*n2 <= -0.0 \t None \t\t None\n",
            "_C4 : 6.2*m1 + 0.041407867*m2 - 84.6*n1 - 0.86*n2 <= -0.0 \t None \t\t None\n",
            "_C5 : 3.12*m1 + 0.031152648*m2 - 77.7*n1 - 0.63*n2 <= -0.0 \t None \t\t None\n",
            "_C6 : 0.12*m1 + 0.071428571*m2 - 56.3*n1 - 0.81*n2 <= -0.0 \t None \t\t None\n",
            "_C7 : 1.32*m1 + 0.043956044*m2 - 45.8*n1 - 0.73*n2 <= -0.0 \t None \t\t None\n",
            "_C8 : 3.07*m1 + 0.1953125*m2 - 37.8*n1 - 0.76*n2 <= -0.0 \t None \t\t None\n",
            "_C9 : 6.28*m1 + 0.0253614*m2 - 36.7*n1 - 0.71*n2 <= -0.0 \t None \t\t None\n",
            "_C10 : 1.88*m1 + 0.031786395*m2 - 29.7*n1 - 0.68*n2 <= -0.0 \t None \t\t None\n",
            "Model Status:Optimal\n",
            "m1 = 0.0 \tReduced Cost = None\n",
            "m2 = 4.04034 \tReduced Cost = None\n",
            "n1 = 0.0099265 \tReduced Cost = None\n",
            "n2 = 0.544615 \tReduced Cost = None\n",
            "Objective= 0.28859571255413996\n",
            "\n",
            "Sensitivity Analysis\n",
            "Constraint\t\tShadow Price\tSlack\n",
            "_C1 : 56.3*n1 + 0.81*n2 = 1.0 \t None \t\t None\n",
            "_C2 : 8.71*m1 + 0.383141762*m2 - 114.8*n1 - 0.75*n2 <= -0.0 \t None \t\t None\n",
            "_C3 : 8.1*m1 + 0.01618123*m2 - 106.8*n1 - 0.7*n2 <= -0.0 \t None \t\t None\n",
            "_C4 : 6.2*m1 + 0.041407867*m2 - 84.6*n1 - 0.86*n2 <= -0.0 \t None \t\t None\n",
            "_C5 : 3.12*m1 + 0.031152648*m2 - 77.7*n1 - 0.63*n2 <= -0.0 \t None \t\t None\n",
            "_C6 : 0.12*m1 + 0.071428571*m2 - 56.3*n1 - 0.81*n2 <= -0.0 \t None \t\t None\n",
            "_C7 : 1.32*m1 + 0.043956044*m2 - 45.8*n1 - 0.73*n2 <= -0.0 \t None \t\t None\n",
            "_C8 : 3.07*m1 + 0.1953125*m2 - 37.8*n1 - 0.76*n2 <= -0.0 \t None \t\t None\n",
            "_C9 : 6.28*m1 + 0.0253614*m2 - 36.7*n1 - 0.71*n2 <= -0.0 \t None \t\t None\n",
            "_C10 : 1.88*m1 + 0.031786395*m2 - 29.7*n1 - 0.68*n2 <= -0.0 \t None \t\t None\n",
            "Model Status:Optimal\n",
            "m1 = 0.125084 \tReduced Cost = None\n",
            "m2 = 2.57972 \tReduced Cost = None\n",
            "n1 = 0.0155064 \tReduced Cost = None\n",
            "n2 = 0.396998 \tReduced Cost = None\n",
            "Objective= 0.27850516582768003\n",
            "\n",
            "Sensitivity Analysis\n",
            "Constraint\t\tShadow Price\tSlack\n",
            "_C1 : 45.8*n1 + 0.73*n2 = 1.0 \t None \t\t None\n",
            "_C2 : 8.71*m1 + 0.383141762*m2 - 114.8*n1 - 0.75*n2 <= -0.0 \t None \t\t None\n",
            "_C3 : 8.1*m1 + 0.01618123*m2 - 106.8*n1 - 0.7*n2 <= -0.0 \t None \t\t None\n",
            "_C4 : 6.2*m1 + 0.041407867*m2 - 84.6*n1 - 0.86*n2 <= -0.0 \t None \t\t None\n",
            "_C5 : 3.12*m1 + 0.031152648*m2 - 77.7*n1 - 0.63*n2 <= -0.0 \t None \t\t None\n",
            "_C6 : 0.12*m1 + 0.071428571*m2 - 56.3*n1 - 0.81*n2 <= -0.0 \t None \t\t None\n",
            "_C7 : 1.32*m1 + 0.043956044*m2 - 45.8*n1 - 0.73*n2 <= -0.0 \t None \t\t None\n",
            "_C8 : 3.07*m1 + 0.1953125*m2 - 37.8*n1 - 0.76*n2 <= -0.0 \t None \t\t None\n",
            "_C9 : 6.28*m1 + 0.0253614*m2 - 36.7*n1 - 0.71*n2 <= -0.0 \t None \t\t None\n",
            "_C10 : 1.88*m1 + 0.031786395*m2 - 29.7*n1 - 0.68*n2 <= -0.0 \t None \t\t None\n",
            "Model Status:Optimal\n",
            "m1 = 0.0 \tReduced Cost = None\n",
            "m2 = 5.12 \tReduced Cost = None\n",
            "n1 = 0.0125791 \tReduced Cost = None\n",
            "n2 = 0.690147 \tReduced Cost = None\n",
            "Objective= 1.0\n",
            "\n",
            "Sensitivity Analysis\n",
            "Constraint\t\tShadow Price\tSlack\n",
            "_C1 : 37.8*n1 + 0.76*n2 = 1.0 \t None \t\t None\n",
            "_C2 : 8.71*m1 + 0.383141762*m2 - 114.8*n1 - 0.75*n2 <= -0.0 \t None \t\t None\n",
            "_C3 : 8.1*m1 + 0.01618123*m2 - 106.8*n1 - 0.7*n2 <= -0.0 \t None \t\t None\n",
            "_C4 : 6.2*m1 + 0.041407867*m2 - 84.6*n1 - 0.86*n2 <= -0.0 \t None \t\t None\n",
            "_C5 : 3.12*m1 + 0.031152648*m2 - 77.7*n1 - 0.63*n2 <= -0.0 \t None \t\t None\n",
            "_C6 : 0.12*m1 + 0.071428571*m2 - 56.3*n1 - 0.81*n2 <= -0.0 \t None \t\t None\n",
            "_C7 : 1.32*m1 + 0.043956044*m2 - 45.8*n1 - 0.73*n2 <= -0.0 \t None \t\t None\n",
            "_C8 : 3.07*m1 + 0.1953125*m2 - 37.8*n1 - 0.76*n2 <= -0.0 \t None \t\t None\n",
            "_C9 : 6.28*m1 + 0.0253614*m2 - 36.7*n1 - 0.71*n2 <= -0.0 \t None \t\t None\n",
            "_C10 : 1.88*m1 + 0.031786395*m2 - 29.7*n1 - 0.68*n2 <= -0.0 \t None \t\t None\n",
            "Model Status:Optimal\n",
            "m1 = 0.159236 \tReduced Cost = None\n",
            "m2 = 0.0 \tReduced Cost = None\n",
            "n1 = 0.00434821 \tReduced Cost = None\n",
            "n2 = 1.18369 \tReduced Cost = None\n",
            "Objective= 1.00000208\n",
            "\n",
            "Sensitivity Analysis\n",
            "Constraint\t\tShadow Price\tSlack\n",
            "_C1 : 36.7*n1 + 0.71*n2 = 1.0 \t None \t\t None\n",
            "_C2 : 8.71*m1 + 0.383141762*m2 - 114.8*n1 - 0.75*n2 <= -0.0 \t None \t\t None\n",
            "_C3 : 8.1*m1 + 0.01618123*m2 - 106.8*n1 - 0.7*n2 <= -0.0 \t None \t\t None\n",
            "_C4 : 6.2*m1 + 0.041407867*m2 - 84.6*n1 - 0.86*n2 <= -0.0 \t None \t\t None\n",
            "_C5 : 3.12*m1 + 0.031152648*m2 - 77.7*n1 - 0.63*n2 <= -0.0 \t None \t\t None\n",
            "_C6 : 0.12*m1 + 0.071428571*m2 - 56.3*n1 - 0.81*n2 <= -0.0 \t None \t\t None\n",
            "_C7 : 1.32*m1 + 0.043956044*m2 - 45.8*n1 - 0.73*n2 <= -0.0 \t None \t\t None\n",
            "_C8 : 3.07*m1 + 0.1953125*m2 - 37.8*n1 - 0.76*n2 <= -0.0 \t None \t\t None\n",
            "_C9 : 6.28*m1 + 0.0253614*m2 - 36.7*n1 - 0.71*n2 <= -0.0 \t None \t\t None\n",
            "_C10 : 1.88*m1 + 0.031786395*m2 - 29.7*n1 - 0.68*n2 <= -0.0 \t None \t\t None\n",
            "Model Status:Optimal\n",
            "m1 = 0.182003 \tReduced Cost = None\n",
            "m2 = 3.65556 \tReduced Cost = None\n",
            "n1 = 0.03367 \tReduced Cost = None\n",
            "n2 = 0.0 \tReduced Cost = None\n",
            "Objective= 0.4583627141062\n",
            "\n",
            "Sensitivity Analysis\n",
            "Constraint\t\tShadow Price\tSlack\n",
            "_C1 : 29.7*n1 + 0.68*n2 = 1.0 \t None \t\t None\n",
            "_C2 : 8.71*m1 + 0.383141762*m2 - 114.8*n1 - 0.75*n2 <= -0.0 \t None \t\t None\n",
            "_C3 : 8.1*m1 + 0.01618123*m2 - 106.8*n1 - 0.7*n2 <= -0.0 \t None \t\t None\n",
            "_C4 : 6.2*m1 + 0.041407867*m2 - 84.6*n1 - 0.86*n2 <= -0.0 \t None \t\t None\n",
            "_C5 : 3.12*m1 + 0.031152648*m2 - 77.7*n1 - 0.63*n2 <= -0.0 \t None \t\t None\n",
            "_C6 : 0.12*m1 + 0.071428571*m2 - 56.3*n1 - 0.81*n2 <= -0.0 \t None \t\t None\n",
            "_C7 : 1.32*m1 + 0.043956044*m2 - 45.8*n1 - 0.73*n2 <= -0.0 \t None \t\t None\n",
            "_C8 : 3.07*m1 + 0.1953125*m2 - 37.8*n1 - 0.76*n2 <= -0.0 \t None \t\t None\n",
            "_C9 : 6.28*m1 + 0.0253614*m2 - 36.7*n1 - 0.71*n2 <= -0.0 \t None \t\t None\n",
            "_C10 : 1.88*m1 + 0.031786395*m2 - 29.7*n1 - 0.68*n2 <= -0.0 \t None \t\t None\n"
          ]
        }
      ]
    },
    {
      "cell_type": "code",
      "source": [
        "efficiency_table =np.empty((9,9))\n",
        "average_list =[]\n",
        "for row in range(9):\n",
        "    row_values=[]\n",
        "    for column in range(9):\n",
        "      value = ((weights_matrix[0,column]*df[\"Y1\"][row])+(weights_matrix[1,column]*df[\"Y2\"][row]))/((weights_matrix[2,column]*df[\"X1\"][row])+(weights_matrix[3,column]*df[\"X2\"][row]))\n",
        "\n",
        "      efficiency_table[row,column]=value\n",
        "      row_values=row_values+[value]\n",
        "    from statistics import mean\n",
        "    average =mean(row_values)\n",
        "    average_list =average_list+[average]"
      ],
      "metadata": {
        "id": "VEDJtA7x_1L2"
      },
      "execution_count": 40,
      "outputs": []
    },
    {
      "cell_type": "code",
      "source": [
        "average_list_rounded = [ '%.2f' % elem for elem in average_list ]"
      ],
      "metadata": {
        "id": "YhUnFha_ABP0"
      },
      "execution_count": 48,
      "outputs": []
    },
    {
      "cell_type": "code",
      "source": [
        "country_list = ['Brazil','Vietnam','Chile','India','Kazakhstan','Egypt','Mexico','Indonesia','Morocco' ]"
      ],
      "metadata": {
        "id": "-WzTXY0AAC8_"
      },
      "execution_count": 49,
      "outputs": []
    },
    {
      "cell_type": "code",
      "source": [
        "for country in country_list:\n",
        "    index = country_list.index(country)\n",
        "    print(\"Cross-efficiency score for\",country,\"=\",average_list_rounded[index])"
      ],
      "metadata": {
        "colab": {
          "base_uri": "https://localhost:8080/"
        },
        "id": "kspdLq87AEmF",
        "outputId": "e517f294-c119-40e0-d399-64059b7e7fb5"
      },
      "execution_count": 50,
      "outputs": [
        {
          "output_type": "stream",
          "name": "stdout",
          "text": [
            "Cross-efficiency score for Brazil = 0.97\n",
            "Cross-efficiency score for Vietnam = 0.57\n",
            "Cross-efficiency score for Chile = 0.46\n",
            "Cross-efficiency score for India = 0.30\n",
            "Cross-efficiency score for Kazakhstan = 0.13\n",
            "Cross-efficiency score for Egypt = 0.21\n",
            "Cross-efficiency score for Mexico = 0.70\n",
            "Cross-efficiency score for Indonesia = 0.70\n",
            "Cross-efficiency score for Morocco = 0.29\n"
          ]
        }
      ]
    },
    {
      "cell_type": "code",
      "source": [
        "display(efficiency_table)\n",
        "np.set_printoptions(suppress=True, precision = 2)\n",
        "print(efficiency_table)\n",
        "np.savetxt('table.txt', efficiency_table, fmt='%f')"
      ],
      "metadata": {
        "colab": {
          "base_uri": "https://localhost:8080/",
          "height": 349
        },
        "id": "WofiUHYDAGQG",
        "outputId": "3b5775f2-6376-4d5a-ef5d-a84bf0a8fff6"
      },
      "execution_count": 44,
      "outputs": [
        {
          "output_type": "display_data",
          "data": {
            "text/plain": [
              "array([[1.  , 1.  , 1.  , 1.  , 1.  , 1.  , 1.  , 1.  , 0.77],\n",
              "       [0.05, 1.  , 1.  , 1.  , 0.05, 0.55, 0.05, 1.  , 0.43],\n",
              "       [0.09, 0.71, 0.71, 0.71, 0.13, 0.53, 0.13, 0.71, 0.45],\n",
              "       [0.1 , 0.46, 0.46, 0.46, 0.11, 0.32, 0.11, 0.46, 0.26],\n",
              "       [0.17, 0.02, 0.02, 0.02, 0.29, 0.17, 0.29, 0.02, 0.15],\n",
              "       [0.12, 0.2 , 0.2 , 0.2 , 0.21, 0.28, 0.21, 0.2 , 0.26],\n",
              "       [0.5 , 0.46, 0.46, 0.46, 1.  , 1.  , 1.  , 0.46, 1.  ],\n",
              "       [0.07, 1.  , 1.  , 1.  , 0.14, 1.  , 0.14, 1.  , 1.  ],\n",
              "       [0.09, 0.32, 0.32, 0.32, 0.19, 0.43, 0.19, 0.32, 0.46]])"
            ]
          },
          "metadata": {}
        },
        {
          "output_type": "stream",
          "name": "stdout",
          "text": [
            "[[1.   1.   1.   1.   1.   1.   1.   1.   0.77]\n",
            " [0.05 1.   1.   1.   0.05 0.55 0.05 1.   0.43]\n",
            " [0.09 0.71 0.71 0.71 0.13 0.53 0.13 0.71 0.45]\n",
            " [0.1  0.46 0.46 0.46 0.11 0.32 0.11 0.46 0.26]\n",
            " [0.17 0.02 0.02 0.02 0.29 0.17 0.29 0.02 0.15]\n",
            " [0.12 0.2  0.2  0.2  0.21 0.28 0.21 0.2  0.26]\n",
            " [0.5  0.46 0.46 0.46 1.   1.   1.   0.46 1.  ]\n",
            " [0.07 1.   1.   1.   0.14 1.   0.14 1.   1.  ]\n",
            " [0.09 0.32 0.32 0.32 0.19 0.43 0.19 0.32 0.46]]\n"
          ]
        }
      ]
    }
  ]
}