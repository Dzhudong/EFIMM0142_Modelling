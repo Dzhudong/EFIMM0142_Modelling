{
  "nbformat": 4,
  "nbformat_minor": 0,
  "metadata": {
    "colab": {
      "provenance": []
    },
    "kernelspec": {
      "name": "python3",
      "display_name": "Python 3"
    },
    "language_info": {
      "name": "python"
    }
  },
  "cells": [
    {
      "cell_type": "code",
      "execution_count": 1,
      "metadata": {
        "colab": {
          "base_uri": "https://localhost:8080/"
        },
        "id": "UgfFbvgLIwiq",
        "outputId": "4fde7970-4ea0-4df0-bc3f-de1df97e9046"
      },
      "outputs": [
        {
          "output_type": "stream",
          "name": "stdout",
          "text": [
            "Collecting pulp\n",
            "  Downloading PuLP-2.7.0-py3-none-any.whl (14.3 MB)\n",
            "\u001b[2K     \u001b[90m━━━━━━━━━━━━━━━━━━━━━━━━━━━━━━━━━━━━━━━━\u001b[0m \u001b[32m14.3/14.3 MB\u001b[0m \u001b[31m71.6 MB/s\u001b[0m eta \u001b[36m0:00:00\u001b[0m\n",
            "\u001b[?25hInstalling collected packages: pulp\n",
            "Successfully installed pulp-2.7.0\n",
            "Selecting previously unselected package libsuitesparseconfig5:amd64.\n",
            "(Reading database ... 120882 files and directories currently installed.)\n",
            "Preparing to unpack .../libsuitesparseconfig5_1%3a5.10.1+dfsg-4build1_amd64.deb ...\n",
            "Unpacking libsuitesparseconfig5:amd64 (1:5.10.1+dfsg-4build1) ...\n",
            "Selecting previously unselected package libamd2:amd64.\n",
            "Preparing to unpack .../libamd2_1%3a5.10.1+dfsg-4build1_amd64.deb ...\n",
            "Unpacking libamd2:amd64 (1:5.10.1+dfsg-4build1) ...\n",
            "Selecting previously unselected package libcolamd2:amd64.\n",
            "Preparing to unpack .../libcolamd2_1%3a5.10.1+dfsg-4build1_amd64.deb ...\n",
            "Unpacking libcolamd2:amd64 (1:5.10.1+dfsg-4build1) ...\n",
            "Selecting previously unselected package libglpk40:amd64.\n",
            "Preparing to unpack .../libglpk40_5.0-1_amd64.deb ...\n",
            "Unpacking libglpk40:amd64 (5.0-1) ...\n",
            "Selecting previously unselected package glpk-utils.\n",
            "Preparing to unpack .../glpk-utils_5.0-1_amd64.deb ...\n",
            "Unpacking glpk-utils (5.0-1) ...\n",
            "Setting up libsuitesparseconfig5:amd64 (1:5.10.1+dfsg-4build1) ...\n",
            "Setting up libamd2:amd64 (1:5.10.1+dfsg-4build1) ...\n",
            "Setting up libcolamd2:amd64 (1:5.10.1+dfsg-4build1) ...\n",
            "Setting up libglpk40:amd64 (5.0-1) ...\n",
            "Setting up glpk-utils (5.0-1) ...\n",
            "Processing triggers for man-db (2.10.2-1) ...\n",
            "Processing triggers for libc-bin (2.35-0ubuntu3.4) ...\n",
            "/sbin/ldconfig.real: /usr/local/lib/libtbbmalloc_proxy.so.2 is not a symbolic link\n",
            "\n",
            "/sbin/ldconfig.real: /usr/local/lib/libtbbbind_2_0.so.3 is not a symbolic link\n",
            "\n",
            "/sbin/ldconfig.real: /usr/local/lib/libtbbbind_2_5.so.3 is not a symbolic link\n",
            "\n",
            "/sbin/ldconfig.real: /usr/local/lib/libtbbbind.so.3 is not a symbolic link\n",
            "\n",
            "/sbin/ldconfig.real: /usr/local/lib/libtbb.so.12 is not a symbolic link\n",
            "\n",
            "/sbin/ldconfig.real: /usr/local/lib/libtbbmalloc.so.2 is not a symbolic link\n",
            "\n",
            "Mounted at /content/drive\n"
          ]
        }
      ],
      "source": [
        "!pip install pulp #Python Linear Programming\n",
        "import pulp\n",
        "!apt-get install -y -qq glpk-utils\n",
        "from pulp import GLPK\n",
        "import pandas as pd\n",
        "import numpy as np\n",
        "\n",
        "from google.colab import drive\n",
        "import os\n",
        "drive.mount('/content/drive')\n",
        "os.chdir(\"/content/drive/My Drive/Colab Notebooks/Modelling\")\n",
        "\n",
        "df = pd.read_csv(\"Modelling data.csv\")\n"
      ]
    },
    {
      "cell_type": "code",
      "source": [
        "weights_matrix = np.empty((9,9))\n",
        "for i in range(9):\n",
        "    model = pulp.LpProblem(\"Investment Analysis\", pulp.LpMaximize) # Create an LP maximization problem\n",
        "    m1 = pulp.LpVariable(\"m1\", lowBound=0, upBound=None, cat='Continuous') # Create a variable m1>=0\n",
        "    m2 = pulp.LpVariable(\"m2\", lowBound=0, upBound=None, cat='Continuous') # Create a variable m2>=0\n",
        "    n1 = pulp.LpVariable(\"n1\", lowBound=0, upBound=None, cat='Continuous') # Create a variable n1>=0\n",
        "    n2 = pulp.LpVariable(\"n2\", lowBound=0, upBound=None, cat='Continuous') # Create a variable n2>=0\n",
        "\n",
        "\n",
        "\n",
        "    model += m1*df[\"Y1\"][i] + m2*df[\"Y2\"][i]  #objective function\n",
        "\n",
        "    model += n1*df[\"X1\"][i] + n2*df[\"X4\"][i] == 1 #first constraint (equality)\n",
        "\n",
        "    for j in range(9):\n",
        "        model += m1*df[\"Y1\"][j] + m2*df[\"Y2\"][j] - n1*df[\"X1\"][j] - n2*df[\"X4\"][j] <= 0\n",
        "\n",
        "    status = model.solve(GLPK(msg=True, options=['--ranges', 'sensitivity.txt']))\n",
        "    print(\"Model Status:{}\".format(pulp.LpStatus[model.status]))\n",
        "\n",
        "    list_weights=[]\n",
        "    for k in model.variables():\n",
        "\t      print(k.name, \"=\", k.varValue, \"\\tReduced Cost =\", k.dj)\n",
        "    for k in model.variables():\n",
        "        list_weights=list_weights+[k.varValue]\n",
        "    for l in range(4):\n",
        "        value= list_weights[l]\n",
        "        weights_matrix[l,i] = value\n",
        "\n",
        "    print(\"Objective=\", pulp.value(model.objective))\n",
        "\n",
        "    # Displaying Shadow Price & Slack Value per Constraint\n",
        "    print (\"\\nSensitivity Analysis\\nConstraint\\t\\tShadow Price\\tSlack\")\n",
        "    for name, m in model.constraints.items():\n",
        "\t      print(name, \":\", m, \"\\t\", m.pi, \"\\t\\t\", m.slack)"
      ],
      "metadata": {
        "colab": {
          "base_uri": "https://localhost:8080/"
        },
        "id": "TKBsrk9KIzyN",
        "outputId": "dc26d7a8-ff0f-4529-c68b-6ceb10cb752e"
      },
      "execution_count": 2,
      "outputs": [
        {
          "output_type": "stream",
          "name": "stderr",
          "text": [
            "/usr/local/lib/python3.10/dist-packages/pulp/pulp.py:1352: UserWarning: Spaces are not permitted in the name. Converted to '_'\n",
            "  warnings.warn(\"Spaces are not permitted in the name. Converted to '_'\")\n"
          ]
        },
        {
          "output_type": "stream",
          "name": "stdout",
          "text": [
            "Model Status:Optimal\n",
            "m1 = 0.0 \tReduced Cost = None\n",
            "m2 = 2.61 \tReduced Cost = None\n",
            "n1 = 0.0 \tReduced Cost = None\n",
            "n2 = 6.0024e-05 \tReduced Cost = None\n",
            "Objective= 0.9999999988199999\n",
            "\n",
            "Sensitivity Analysis\n",
            "Constraint\t\tShadow Price\tSlack\n",
            "_C1 : 114.8*n1 + 16660*n2 = 1.0 \t None \t\t None\n",
            "_C2 : 8.71*m1 + 0.383141762*m2 - 114.8*n1 - 16660*n2 <= -0.0 \t None \t\t None\n",
            "_C3 : 8.1*m1 + 0.01618123*m2 - 106.8*n1 - 12376*n2 <= -0.0 \t None \t\t None\n",
            "_C4 : 6.2*m1 + 0.041407867*m2 - 84.6*n1 - 24463*n2 <= -0.0 \t None \t\t None\n",
            "_C5 : 3.12*m1 + 0.031152648*m2 - 77.7*n1 - 6810*n2 <= -0.0 \t None \t\t None\n",
            "_C6 : 0.12*m1 + 0.071428571*m2 - 56.3*n1 - 42442*n2 <= -0.0 \t None \t\t None\n",
            "_C7 : 1.32*m1 + 0.043956044*m2 - 45.8*n1 - 9639*n2 <= -0.0 \t None \t\t None\n",
            "_C8 : 3.07*m1 + 0.1953125*m2 - 37.8*n1 - 17515*n2 <= -0.0 \t None \t\t None\n",
            "_C9 : 6.28*m1 + 0.0253614*m2 - 36.7*n1 - 7872*n2 <= -0.0 \t None \t\t None\n",
            "_C10 : 1.88*m1 + 0.031786395*m2 - 29.7*n1 - 7237*n2 <= -0.0 \t None \t\t None\n",
            "Model Status:Optimal\n",
            "m1 = 0.101285 \tReduced Cost = None\n",
            "m2 = 0.0 \tReduced Cost = None\n",
            "n1 = 0.0 \tReduced Cost = None\n",
            "n2 = 8.08016e-05 \tReduced Cost = None\n",
            "Objective= 0.8204085\n",
            "\n",
            "Sensitivity Analysis\n",
            "Constraint\t\tShadow Price\tSlack\n",
            "_C1 : 106.8*n1 + 12376*n2 = 1.0 \t None \t\t None\n",
            "_C2 : 8.71*m1 + 0.383141762*m2 - 114.8*n1 - 16660*n2 <= -0.0 \t None \t\t None\n",
            "_C3 : 8.1*m1 + 0.01618123*m2 - 106.8*n1 - 12376*n2 <= -0.0 \t None \t\t None\n",
            "_C4 : 6.2*m1 + 0.041407867*m2 - 84.6*n1 - 24463*n2 <= -0.0 \t None \t\t None\n",
            "_C5 : 3.12*m1 + 0.031152648*m2 - 77.7*n1 - 6810*n2 <= -0.0 \t None \t\t None\n",
            "_C6 : 0.12*m1 + 0.071428571*m2 - 56.3*n1 - 42442*n2 <= -0.0 \t None \t\t None\n",
            "_C7 : 1.32*m1 + 0.043956044*m2 - 45.8*n1 - 9639*n2 <= -0.0 \t None \t\t None\n",
            "_C8 : 3.07*m1 + 0.1953125*m2 - 37.8*n1 - 17515*n2 <= -0.0 \t None \t\t None\n",
            "_C9 : 6.28*m1 + 0.0253614*m2 - 36.7*n1 - 7872*n2 <= -0.0 \t None \t\t None\n",
            "_C10 : 1.88*m1 + 0.031786395*m2 - 29.7*n1 - 7237*n2 <= -0.0 \t None \t\t None\n",
            "Model Status:Optimal\n",
            "m1 = 0.0638947 \tReduced Cost = None\n",
            "m2 = 1.28334 \tReduced Cost = None\n",
            "n1 = 0.0118203 \tReduced Cost = None\n",
            "n2 = 0.0 \tReduced Cost = None\n",
            "Objective= 0.44928751203578\n",
            "\n",
            "Sensitivity Analysis\n",
            "Constraint\t\tShadow Price\tSlack\n",
            "_C1 : 84.6*n1 + 24463*n2 = 1.0 \t None \t\t None\n",
            "_C2 : 8.71*m1 + 0.383141762*m2 - 114.8*n1 - 16660*n2 <= -0.0 \t None \t\t None\n",
            "_C3 : 8.1*m1 + 0.01618123*m2 - 106.8*n1 - 12376*n2 <= -0.0 \t None \t\t None\n",
            "_C4 : 6.2*m1 + 0.041407867*m2 - 84.6*n1 - 24463*n2 <= -0.0 \t None \t\t None\n",
            "_C5 : 3.12*m1 + 0.031152648*m2 - 77.7*n1 - 6810*n2 <= -0.0 \t None \t\t None\n",
            "_C6 : 0.12*m1 + 0.071428571*m2 - 56.3*n1 - 42442*n2 <= -0.0 \t None \t\t None\n",
            "_C7 : 1.32*m1 + 0.043956044*m2 - 45.8*n1 - 9639*n2 <= -0.0 \t None \t\t None\n",
            "_C8 : 3.07*m1 + 0.1953125*m2 - 37.8*n1 - 17515*n2 <= -0.0 \t None \t\t None\n",
            "_C9 : 6.28*m1 + 0.0253614*m2 - 36.7*n1 - 7872*n2 <= -0.0 \t None \t\t None\n",
            "_C10 : 1.88*m1 + 0.031786395*m2 - 29.7*n1 - 7237*n2 <= -0.0 \t None \t\t None\n",
            "Model Status:Optimal\n",
            "m1 = 0.174282 \tReduced Cost = None\n",
            "m2 = 2.42313 \tReduced Cost = None\n",
            "n1 = 0.0 \tReduced Cost = None\n",
            "n2 = 0.000146843 \tReduced Cost = None\n",
            "Objective= 0.61924675594824\n",
            "\n",
            "Sensitivity Analysis\n",
            "Constraint\t\tShadow Price\tSlack\n",
            "_C1 : 77.7*n1 + 6810*n2 = 1.0 \t None \t\t None\n",
            "_C2 : 8.71*m1 + 0.383141762*m2 - 114.8*n1 - 16660*n2 <= -0.0 \t None \t\t None\n",
            "_C3 : 8.1*m1 + 0.01618123*m2 - 106.8*n1 - 12376*n2 <= -0.0 \t None \t\t None\n",
            "_C4 : 6.2*m1 + 0.041407867*m2 - 84.6*n1 - 24463*n2 <= -0.0 \t None \t\t None\n",
            "_C5 : 3.12*m1 + 0.031152648*m2 - 77.7*n1 - 6810*n2 <= -0.0 \t None \t\t None\n",
            "_C6 : 0.12*m1 + 0.071428571*m2 - 56.3*n1 - 42442*n2 <= -0.0 \t None \t\t None\n",
            "_C7 : 1.32*m1 + 0.043956044*m2 - 45.8*n1 - 9639*n2 <= -0.0 \t None \t\t None\n",
            "_C8 : 3.07*m1 + 0.1953125*m2 - 37.8*n1 - 17515*n2 <= -0.0 \t None \t\t None\n",
            "_C9 : 6.28*m1 + 0.0253614*m2 - 36.7*n1 - 7872*n2 <= -0.0 \t None \t\t None\n",
            "_C10 : 1.88*m1 + 0.031786395*m2 - 29.7*n1 - 7237*n2 <= -0.0 \t None \t\t None\n",
            "Model Status:Optimal\n",
            "m1 = 0.0 \tReduced Cost = None\n",
            "m2 = 3.43758 \tReduced Cost = None\n",
            "n1 = 0.017762 \tReduced Cost = None\n",
            "n2 = 0.0 \tReduced Cost = None\n",
            "Objective= 0.24554142709818\n",
            "\n",
            "Sensitivity Analysis\n",
            "Constraint\t\tShadow Price\tSlack\n",
            "_C1 : 56.3*n1 + 42442*n2 = 1.0 \t None \t\t None\n",
            "_C2 : 8.71*m1 + 0.383141762*m2 - 114.8*n1 - 16660*n2 <= -0.0 \t None \t\t None\n",
            "_C3 : 8.1*m1 + 0.01618123*m2 - 106.8*n1 - 12376*n2 <= -0.0 \t None \t\t None\n",
            "_C4 : 6.2*m1 + 0.041407867*m2 - 84.6*n1 - 24463*n2 <= -0.0 \t None \t\t None\n",
            "_C5 : 3.12*m1 + 0.031152648*m2 - 77.7*n1 - 6810*n2 <= -0.0 \t None \t\t None\n",
            "_C6 : 0.12*m1 + 0.071428571*m2 - 56.3*n1 - 42442*n2 <= -0.0 \t None \t\t None\n",
            "_C7 : 1.32*m1 + 0.043956044*m2 - 45.8*n1 - 9639*n2 <= -0.0 \t None \t\t None\n",
            "_C8 : 3.07*m1 + 0.1953125*m2 - 37.8*n1 - 17515*n2 <= -0.0 \t None \t\t None\n",
            "_C9 : 6.28*m1 + 0.0253614*m2 - 36.7*n1 - 7872*n2 <= -0.0 \t None \t\t None\n",
            "_C10 : 1.88*m1 + 0.031786395*m2 - 29.7*n1 - 7237*n2 <= -0.0 \t None \t\t None\n",
            "Model Status:Optimal\n",
            "m1 = 0.113908 \tReduced Cost = None\n",
            "m2 = 3.5191 \tReduced Cost = None\n",
            "n1 = 0.0171736 \tReduced Cost = None\n",
            "n2 = 2.21445e-05 \tReduced Cost = None\n",
            "Objective= 0.3050442744404\n",
            "\n",
            "Sensitivity Analysis\n",
            "Constraint\t\tShadow Price\tSlack\n",
            "_C1 : 45.8*n1 + 9639*n2 = 1.0 \t None \t\t None\n",
            "_C2 : 8.71*m1 + 0.383141762*m2 - 114.8*n1 - 16660*n2 <= -0.0 \t None \t\t None\n",
            "_C3 : 8.1*m1 + 0.01618123*m2 - 106.8*n1 - 12376*n2 <= -0.0 \t None \t\t None\n",
            "_C4 : 6.2*m1 + 0.041407867*m2 - 84.6*n1 - 24463*n2 <= -0.0 \t None \t\t None\n",
            "_C5 : 3.12*m1 + 0.031152648*m2 - 77.7*n1 - 6810*n2 <= -0.0 \t None \t\t None\n",
            "_C6 : 0.12*m1 + 0.071428571*m2 - 56.3*n1 - 42442*n2 <= -0.0 \t None \t\t None\n",
            "_C7 : 1.32*m1 + 0.043956044*m2 - 45.8*n1 - 9639*n2 <= -0.0 \t None \t\t None\n",
            "_C8 : 3.07*m1 + 0.1953125*m2 - 37.8*n1 - 17515*n2 <= -0.0 \t None \t\t None\n",
            "_C9 : 6.28*m1 + 0.0253614*m2 - 36.7*n1 - 7872*n2 <= -0.0 \t None \t\t None\n",
            "_C10 : 1.88*m1 + 0.031786395*m2 - 29.7*n1 - 7237*n2 <= -0.0 \t None \t\t None\n",
            "Model Status:Optimal\n",
            "m1 = 0.0 \tReduced Cost = None\n",
            "m2 = 5.12 \tReduced Cost = None\n",
            "n1 = 0.0128163 \tReduced Cost = None\n",
            "n2 = 2.94345e-05 \tReduced Cost = None\n",
            "Objective= 1.0\n",
            "\n",
            "Sensitivity Analysis\n",
            "Constraint\t\tShadow Price\tSlack\n",
            "_C1 : 37.8*n1 + 17515*n2 = 1.0 \t None \t\t None\n",
            "_C2 : 8.71*m1 + 0.383141762*m2 - 114.8*n1 - 16660*n2 <= -0.0 \t None \t\t None\n",
            "_C3 : 8.1*m1 + 0.01618123*m2 - 106.8*n1 - 12376*n2 <= -0.0 \t None \t\t None\n",
            "_C4 : 6.2*m1 + 0.041407867*m2 - 84.6*n1 - 24463*n2 <= -0.0 \t None \t\t None\n",
            "_C5 : 3.12*m1 + 0.031152648*m2 - 77.7*n1 - 6810*n2 <= -0.0 \t None \t\t None\n",
            "_C6 : 0.12*m1 + 0.071428571*m2 - 56.3*n1 - 42442*n2 <= -0.0 \t None \t\t None\n",
            "_C7 : 1.32*m1 + 0.043956044*m2 - 45.8*n1 - 9639*n2 <= -0.0 \t None \t\t None\n",
            "_C8 : 3.07*m1 + 0.1953125*m2 - 37.8*n1 - 17515*n2 <= -0.0 \t None \t\t None\n",
            "_C9 : 6.28*m1 + 0.0253614*m2 - 36.7*n1 - 7872*n2 <= -0.0 \t None \t\t None\n",
            "_C10 : 1.88*m1 + 0.031786395*m2 - 29.7*n1 - 7237*n2 <= -0.0 \t None \t\t None\n",
            "Model Status:Optimal\n",
            "m1 = 0.159236 \tReduced Cost = None\n",
            "m2 = 0.0 \tReduced Cost = None\n",
            "n1 = 0.0 \tReduced Cost = None\n",
            "n2 = 0.000127033 \tReduced Cost = None\n",
            "Objective= 1.00000208\n",
            "\n",
            "Sensitivity Analysis\n",
            "Constraint\t\tShadow Price\tSlack\n",
            "_C1 : 36.7*n1 + 7872*n2 = 1.0 \t None \t\t None\n",
            "_C2 : 8.71*m1 + 0.383141762*m2 - 114.8*n1 - 16660*n2 <= -0.0 \t None \t\t None\n",
            "_C3 : 8.1*m1 + 0.01618123*m2 - 106.8*n1 - 12376*n2 <= -0.0 \t None \t\t None\n",
            "_C4 : 6.2*m1 + 0.041407867*m2 - 84.6*n1 - 24463*n2 <= -0.0 \t None \t\t None\n",
            "_C5 : 3.12*m1 + 0.031152648*m2 - 77.7*n1 - 6810*n2 <= -0.0 \t None \t\t None\n",
            "_C6 : 0.12*m1 + 0.071428571*m2 - 56.3*n1 - 42442*n2 <= -0.0 \t None \t\t None\n",
            "_C7 : 1.32*m1 + 0.043956044*m2 - 45.8*n1 - 9639*n2 <= -0.0 \t None \t\t None\n",
            "_C8 : 3.07*m1 + 0.1953125*m2 - 37.8*n1 - 17515*n2 <= -0.0 \t None \t\t None\n",
            "_C9 : 6.28*m1 + 0.0253614*m2 - 36.7*n1 - 7872*n2 <= -0.0 \t None \t\t None\n",
            "_C10 : 1.88*m1 + 0.031786395*m2 - 29.7*n1 - 7237*n2 <= -0.0 \t None \t\t None\n",
            "Model Status:Optimal\n",
            "m1 = 0.169932 \tReduced Cost = None\n",
            "m2 = 5.24992 \tReduced Cost = None\n",
            "n1 = 0.0256202 \tReduced Cost = None\n",
            "n2 = 3.3036e-05 \tReduced Cost = None\n",
            "Objective= 0.48634819083840003\n",
            "\n",
            "Sensitivity Analysis\n",
            "Constraint\t\tShadow Price\tSlack\n",
            "_C1 : 29.7*n1 + 7237*n2 = 1.0 \t None \t\t None\n",
            "_C2 : 8.71*m1 + 0.383141762*m2 - 114.8*n1 - 16660*n2 <= -0.0 \t None \t\t None\n",
            "_C3 : 8.1*m1 + 0.01618123*m2 - 106.8*n1 - 12376*n2 <= -0.0 \t None \t\t None\n",
            "_C4 : 6.2*m1 + 0.041407867*m2 - 84.6*n1 - 24463*n2 <= -0.0 \t None \t\t None\n",
            "_C5 : 3.12*m1 + 0.031152648*m2 - 77.7*n1 - 6810*n2 <= -0.0 \t None \t\t None\n",
            "_C6 : 0.12*m1 + 0.071428571*m2 - 56.3*n1 - 42442*n2 <= -0.0 \t None \t\t None\n",
            "_C7 : 1.32*m1 + 0.043956044*m2 - 45.8*n1 - 9639*n2 <= -0.0 \t None \t\t None\n",
            "_C8 : 3.07*m1 + 0.1953125*m2 - 37.8*n1 - 17515*n2 <= -0.0 \t None \t\t None\n",
            "_C9 : 6.28*m1 + 0.0253614*m2 - 36.7*n1 - 7872*n2 <= -0.0 \t None \t\t None\n",
            "_C10 : 1.88*m1 + 0.031786395*m2 - 29.7*n1 - 7237*n2 <= -0.0 \t None \t\t None\n"
          ]
        }
      ]
    },
    {
      "cell_type": "code",
      "source": [
        "efficiency_table =np.empty((9,9))\n",
        "average_list =[]\n",
        "for row in range(9):\n",
        "    row_values=[]\n",
        "    for column in range(9):\n",
        "      value = ((weights_matrix[0,column]*df[\"Y1\"][row])+(weights_matrix[1,column]*df[\"Y2\"][row]))/((weights_matrix[2,column]*df[\"X1\"][row])+(weights_matrix[3,column]*df[\"X4\"][row]))\n",
        "\n",
        "      efficiency_table[row,column]=value\n",
        "      row_values=row_values+[value]\n",
        "    from statistics import mean\n",
        "    average =mean(row_values)\n",
        "    average_list =average_list+[average]"
      ],
      "metadata": {
        "id": "jQaqhtc3I3EA"
      },
      "execution_count": 3,
      "outputs": []
    },
    {
      "cell_type": "code",
      "source": [
        "average_list_rounded = [ '%.2f' % elem for elem in average_list ]"
      ],
      "metadata": {
        "id": "8LIwVjmFI5BE"
      },
      "execution_count": 4,
      "outputs": []
    },
    {
      "cell_type": "code",
      "source": [
        "country_list = ['Brazil','Vietnam','Chile','India','Kazakhstan','Egypt','Mexico','Indonesia','Morocco' ]\n"
      ],
      "metadata": {
        "id": "S6f8ly1pI6au"
      },
      "execution_count": 5,
      "outputs": []
    },
    {
      "cell_type": "code",
      "source": [
        "for country in country_list:\n",
        "    index = country_list.index(country)\n",
        "    print(\"Cross-efficiency score for\",country,\"=\",average_list_rounded[index])"
      ],
      "metadata": {
        "colab": {
          "base_uri": "https://localhost:8080/"
        },
        "id": "hGJPkJQsI75K",
        "outputId": "78a71991-8733-46e7-c0f2-d132a6c05447"
      },
      "execution_count": 6,
      "outputs": [
        {
          "output_type": "stream",
          "name": "stdout",
          "text": [
            "Cross-efficiency score for Brazil = 0.86\n",
            "Cross-efficiency score for Vietnam = 0.44\n",
            "Cross-efficiency score for Chile = 0.28\n",
            "Cross-efficiency score for India = 0.34\n",
            "Cross-efficiency score for Kazakhstan = 0.11\n",
            "Cross-efficiency score for Egypt = 0.23\n",
            "Cross-efficiency score for Mexico = 0.70\n",
            "Cross-efficiency score for Indonesia = 0.72\n",
            "Cross-efficiency score for Morocco = 0.35\n"
          ]
        }
      ]
    },
    {
      "cell_type": "code",
      "source": [
        "display(efficiency_table)\n",
        "np.set_printoptions(suppress=True, precision = 2)\n",
        "print(efficiency_table)\n",
        "np.savetxt('table.txt', efficiency_table, fmt='%f')"
      ],
      "metadata": {
        "colab": {
          "base_uri": "https://localhost:8080/",
          "height": 515
        },
        "id": "-VPCISDjI9Jb",
        "outputId": "6aaf9c15-e55f-4f29-9713-e494489c1013"
      },
      "execution_count": 7,
      "outputs": [
        {
          "output_type": "display_data",
          "data": {
            "text/plain": [
              "array([[1.00000016, 0.65534249, 0.77247371, 0.9999976 , 0.64591973,\n",
              "        0.99999838, 0.99999786, 0.65534179, 0.99999788],\n",
              "       [0.05685214, 0.82040801, 0.42641767, 0.79836587, 0.02932252,\n",
              "        0.46466075, 0.04780434, 0.82040712, 0.46466045],\n",
              "       [0.07360185, 0.31769263, 0.44928869, 0.32873403, 0.09472693,\n",
              "        0.42712566, 0.11750069, 0.31769229, 0.42712535],\n",
              "       [0.19891312, 0.57429185, 0.26058491, 0.61924624, 0.07759521,\n",
              "        0.31310565, 0.1333318 , 0.57429123, 0.31310548],\n",
              "       [0.07317988, 0.00354414, 0.14926681, 0.03112723, 0.24554128,\n",
              "        0.13899879, 0.18556484, 0.00354413, 0.1389987 ],\n",
              "       [0.19829063, 0.17165922, 0.25999154, 0.2377835 , 0.18574369,\n",
              "        0.30504375, 0.25847419, 0.17165903, 0.30504358],\n",
              "       [0.48488134, 0.21971181, 1.00000388, 0.39204156, 0.99999813,\n",
              "        0.99999882, 0.99999859, 0.21971158, 0.99999815],\n",
              "       [0.1400889 , 0.99999938, 1.00000232, 0.99999726, 0.13374209,\n",
              "        0.99999866, 0.18495449, 0.9999983 , 0.99999796],\n",
              "       [0.19098457, 0.32563003, 0.45836454, 0.38079577, 0.20713132,\n",
              "        0.48634779, 0.27413992, 0.32562968, 0.48634747]])"
            ]
          },
          "metadata": {}
        },
        {
          "output_type": "stream",
          "name": "stdout",
          "text": [
            "[[1.   0.66 0.77 1.   0.65 1.   1.   0.66 1.  ]\n",
            " [0.06 0.82 0.43 0.8  0.03 0.46 0.05 0.82 0.46]\n",
            " [0.07 0.32 0.45 0.33 0.09 0.43 0.12 0.32 0.43]\n",
            " [0.2  0.57 0.26 0.62 0.08 0.31 0.13 0.57 0.31]\n",
            " [0.07 0.   0.15 0.03 0.25 0.14 0.19 0.   0.14]\n",
            " [0.2  0.17 0.26 0.24 0.19 0.31 0.26 0.17 0.31]\n",
            " [0.48 0.22 1.   0.39 1.   1.   1.   0.22 1.  ]\n",
            " [0.14 1.   1.   1.   0.13 1.   0.18 1.   1.  ]\n",
            " [0.19 0.33 0.46 0.38 0.21 0.49 0.27 0.33 0.49]]\n"
          ]
        }
      ]
    }
  ]
}